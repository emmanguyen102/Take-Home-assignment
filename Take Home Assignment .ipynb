{
 "cells": [
  {
   "cell_type": "markdown",
   "metadata": {},
   "source": [
    "# Explore data"
   ]
  },
  {
   "cell_type": "code",
   "execution_count": 45,
   "metadata": {},
   "outputs": [],
   "source": [
    "import pandas as pd\n",
    "import matplotlib.pyplot as plt\n",
    "import numpy as np\n",
    "import datetime\n",
    "\n",
    "%matplotlib inline"
   ]
  },
  {
   "cell_type": "code",
   "execution_count": 46,
   "metadata": {},
   "outputs": [
    {
     "name": "stdout",
     "output_type": "stream",
     "text": [
      "         date source_game target_game country  ad_impressions  installs\n",
      "0  2020-07-01           A           K      US           32105      1380\n",
      "1  2020-07-02           A           K      US           29535      1430\n",
      "2  2020-07-03           A           K      US           28702      1262\n",
      "3  2020-07-04           A           K      US           32822      1550\n",
      "4  2020-07-05           A           K      US           23097      1034\n"
     ]
    }
   ],
   "source": [
    "network = pd.read_csv(\"BI_intern_homework_dataset1.csv\")\n",
    "print(network.head())"
   ]
  },
  {
   "cell_type": "code",
   "execution_count": 47,
   "metadata": {},
   "outputs": [
    {
     "name": "stdout",
     "output_type": "stream",
     "text": [
      "<class 'pandas.core.frame.DataFrame'>\n",
      "RangeIndex: 15500 entries, 0 to 15499\n",
      "Data columns (total 6 columns):\n",
      " #   Column          Non-Null Count  Dtype \n",
      "---  ------          --------------  ----- \n",
      " 0   date            15500 non-null  object\n",
      " 1   source_game     15500 non-null  object\n",
      " 2   target_game     15500 non-null  object\n",
      " 3   country         15500 non-null  object\n",
      " 4   ad_impressions  15500 non-null  int64 \n",
      " 5   installs        15500 non-null  int64 \n",
      "dtypes: int64(2), object(4)\n",
      "memory usage: 726.7+ KB\n",
      "None\n"
     ]
    }
   ],
   "source": [
    "print(network.info())"
   ]
  },
  {
   "cell_type": "markdown",
   "metadata": {},
   "source": [
    "The dataset 1 is already clean for further analysis.\n",
    "\n",
    "# Data Analysis\n",
    "\n",
    "## 1.1 Which source game has shown the most ad impressions?"
   ]
  },
  {
   "cell_type": "code",
   "execution_count": 48,
   "metadata": {},
   "outputs": [
    {
     "data": {
      "text/plain": [
       "source_game\n",
       "J    39561455\n",
       "F    35873352\n",
       "I    34218532\n",
       "A    33415518\n",
       "D    32558451\n",
       "G    28989621\n",
       "H    24411922\n",
       "C    23422934\n",
       "B    12882970\n",
       "E    12763510\n",
       "Name: ad_impressions, dtype: int64"
      ]
     },
     "execution_count": 48,
     "metadata": {},
     "output_type": "execute_result"
    }
   ],
   "source": [
    "# group the network dataframe by source games\n",
    "ads_by_source_game = network.groupby(\"source_game\")\n",
    "\n",
    "# find the total ad impressions for each source game\n",
    "# and sort from the largest to smallest\n",
    "ads_by_source_game.ad_impressions.sum().sort_values(ascending=False)"
   ]
  },
  {
   "cell_type": "markdown",
   "metadata": {},
   "source": [
    "**CONCLUSION: It was shown in the table above that source game J has shown the most ad impressions with a total of 39,561,455 ads.** \n",
    "\n",
    "## 1.2 Which target game has gotten the most installs?"
   ]
  },
  {
   "cell_type": "code",
   "execution_count": 49,
   "metadata": {},
   "outputs": [
    {
     "data": {
      "text/plain": [
       "target_game\n",
       "T    903191\n",
       "R    609869\n",
       "L    547293\n",
       "O    533252\n",
       "Q    471479\n",
       "M    459650\n",
       "N    444215\n",
       "K    418441\n",
       "S    406413\n",
       "P    360226\n",
       "Name: installs, dtype: int64"
      ]
     },
     "execution_count": 49,
     "metadata": {},
     "output_type": "execute_result"
    }
   ],
   "source": [
    "# group the network dataframe by target games\n",
    "installs_by_target_game = network.groupby(\"target_game\")\n",
    "\n",
    "# find the total installs for each target game\n",
    "# and sort from the largest to smallest\n",
    "installs_by_target_game.installs.sum().sort_values(ascending=False)"
   ]
  },
  {
   "cell_type": "markdown",
   "metadata": {},
   "source": [
    "The same process is conducted to find the target game having the most installations. **It shows that target game T has the most installations with a total of 903,191 installs.**\n",
    "\n",
    "## 1.3 On July 4, there is an increase in the number of installs. Find drivers for this change in the data set"
   ]
  },
  {
   "cell_type": "code",
   "execution_count": 50,
   "metadata": {
    "scrolled": true
   },
   "outputs": [
    {
     "data": {
      "text/plain": [
       "date\n",
       "2020-07-04    222203\n",
       "2020-07-12    189985\n",
       "2020-07-05    188568\n",
       "2020-07-03    183057\n",
       "2020-07-02    180930\n",
       "2020-07-06    179042\n",
       "2020-07-26    178167\n",
       "2020-07-16    175164\n",
       "2020-07-19    171296\n",
       "2020-07-11    171247\n",
       "2020-07-01    170227\n",
       "2020-07-25    167683\n",
       "2020-07-24    167471\n",
       "2020-07-07    166369\n",
       "2020-07-08    165875\n",
       "2020-07-27    163672\n",
       "2020-07-13    162743\n",
       "2020-07-18    162594\n",
       "2020-07-15    162580\n",
       "2020-07-10    161130\n",
       "2020-07-17    160404\n",
       "2020-07-20    160027\n",
       "2020-07-23    159303\n",
       "2020-07-09    155501\n",
       "2020-07-28    151069\n",
       "2020-07-14    150658\n",
       "2020-07-29    150134\n",
       "2020-07-21    149938\n",
       "2020-07-22    145128\n",
       "2020-07-30    144447\n",
       "2020-07-31    137417\n",
       "Name: installs, dtype: int64"
      ]
     },
     "execution_count": 50,
     "metadata": {},
     "output_type": "execute_result"
    }
   ],
   "source": [
    "# total installs for each day in July\n",
    "network.groupby(\"date\").installs.sum().sort_values(ascending=False)"
   ]
  },
  {
   "cell_type": "code",
   "execution_count": 51,
   "metadata": {},
   "outputs": [
    {
     "data": {
      "text/plain": [
       "166259.0"
      ]
     },
     "execution_count": 51,
     "metadata": {},
     "output_type": "execute_result"
    }
   ],
   "source": [
    "# average installs for a day in July\n",
    "network.groupby(\"date\").installs.sum().sort_values(ascending=False).mean()"
   ]
  },
  {
   "cell_type": "code",
   "execution_count": 52,
   "metadata": {
    "scrolled": true
   },
   "outputs": [
    {
     "data": {
      "text/plain": [
       "date\n",
       "2020-07-04    444.406\n",
       "2020-07-12    379.970\n",
       "2020-07-05    377.136\n",
       "2020-07-03    366.114\n",
       "2020-07-02    361.860\n",
       "2020-07-06    358.084\n",
       "2020-07-26    356.334\n",
       "2020-07-16    350.328\n",
       "2020-07-19    342.592\n",
       "2020-07-11    342.494\n",
       "2020-07-01    340.454\n",
       "2020-07-25    335.366\n",
       "2020-07-24    334.942\n",
       "2020-07-07    332.738\n",
       "2020-07-08    331.750\n",
       "2020-07-27    327.344\n",
       "2020-07-13    325.486\n",
       "2020-07-18    325.188\n",
       "2020-07-15    325.160\n",
       "2020-07-10    322.260\n",
       "2020-07-17    320.808\n",
       "2020-07-20    320.054\n",
       "2020-07-23    318.606\n",
       "2020-07-09    311.002\n",
       "2020-07-28    302.138\n",
       "2020-07-14    301.316\n",
       "2020-07-29    300.268\n",
       "2020-07-21    299.876\n",
       "2020-07-22    290.256\n",
       "2020-07-30    288.894\n",
       "2020-07-31    274.834\n",
       "Name: installs, dtype: float64"
      ]
     },
     "execution_count": 52,
     "metadata": {},
     "output_type": "execute_result"
    }
   ],
   "source": [
    "# since it is quite hard to see in sum number, I decided to change to mean values\n",
    "# mean installs for each day in July\n",
    "network.groupby(\"date\").installs.mean().sort_values(ascending=False)"
   ]
  },
  {
   "cell_type": "code",
   "execution_count": 53,
   "metadata": {},
   "outputs": [
    {
     "data": {
      "text/plain": [
       "332.518"
      ]
     },
     "execution_count": 53,
     "metadata": {},
     "output_type": "execute_result"
    }
   ],
   "source": [
    "# average installs for a day in July\n",
    "network.installs.mean()"
   ]
  },
  {
   "cell_type": "markdown",
   "metadata": {},
   "source": [
    "It can be seen that on 4th of July there is a peak in installation numbers with 222,203 installs (mean of 444 installs of a game in a day) out of 166,259 installs average for each day (mean of 332 installs). This means an increase of almost 60,000 installs."
   ]
  },
  {
   "cell_type": "code",
   "execution_count": 54,
   "metadata": {
    "scrolled": false
   },
   "outputs": [
    {
     "data": {
      "text/plain": [
       "target_game\n",
       "R    43933\n",
       "T    36637\n",
       "K    25709\n",
       "O    22089\n",
       "L    19998\n",
       "Q    18866\n",
       "S    16182\n",
       "M    16059\n",
       "P    12394\n",
       "N    10336\n",
       "Name: installs, dtype: int64"
      ]
     },
     "execution_count": 54,
     "metadata": {},
     "output_type": "execute_result"
    }
   ],
   "source": [
    "# dataframe for 04.07.2020\n",
    "network_040720 = network[network.date == \"2020-07-04\"]\n",
    "\n",
    "# the total installs for each game on 04.07.2020\n",
    "network_040720.groupby(\"target_game\").installs.sum().sort_values(ascending=False)"
   ]
  },
  {
   "cell_type": "code",
   "execution_count": 55,
   "metadata": {
    "scrolled": true
   },
   "outputs": [
    {
     "name": "stdout",
     "output_type": "stream",
     "text": [
      "             date source_game target_game country  ad_impressions  installs\n",
      "220    2020-07-04           A           R      US           97223       890\n",
      "530    2020-07-04           B           R      US            8079       423\n",
      "840    2020-07-04           C           R      US           82929      1509\n",
      "1150   2020-07-04           D           R      US           29642      1214\n",
      "1460   2020-07-04           E           R      US           20922       855\n",
      "1770   2020-07-04           F           R      US            6972       699\n",
      "2080   2020-07-04           G           R      US            5526       141\n",
      "2390   2020-07-04           H           R      US            6216       302\n",
      "2700   2020-07-04           I           R      US          599130     14573\n",
      "3010   2020-07-04           J           R      US          136547      2927\n",
      "3320   2020-07-04           A           R      RU           13052       128\n",
      "3630   2020-07-04           B           R      RU            2755       141\n",
      "3940   2020-07-04           C           R      RU           69369      1349\n",
      "4250   2020-07-04           D           R      RU           20019       765\n",
      "4560   2020-07-04           E           R      RU            3950       158\n",
      "4870   2020-07-04           F           R      RU            1473       152\n",
      "5180   2020-07-04           G           R      RU            1136        32\n",
      "5490   2020-07-04           H           R      RU            1565        77\n",
      "5800   2020-07-04           I           R      RU           41337       911\n",
      "6110   2020-07-04           J           R      RU           43719       976\n",
      "6420   2020-07-04           A           R      IN           25348       242\n",
      "6730   2020-07-04           B           R      IN            2822       138\n",
      "7040   2020-07-04           C           R      IN           10860       150\n",
      "7350   2020-07-04           D           R      IN           12411       519\n",
      "7660   2020-07-04           E           R      IN            9786       415\n",
      "7970   2020-07-04           F           R      IN            1475       160\n",
      "8280   2020-07-04           G           R      IN            2532        63\n",
      "8590   2020-07-04           H           R      IN            1046        46\n",
      "8900   2020-07-04           I           R      IN           40378       997\n",
      "9210   2020-07-04           J           R      IN           46093       958\n",
      "9520   2020-07-04           A           R      BR           18988       174\n",
      "9830   2020-07-04           B           R      BR            1326        69\n",
      "10140  2020-07-04           C           R      BR            8516       116\n",
      "10450  2020-07-04           D           R      BR            6793       266\n",
      "10760  2020-07-04           E           R      BR            2067        79\n",
      "11070  2020-07-04           F           R      BR            5535       557\n",
      "11380  2020-07-04           G           R      BR            2453        63\n",
      "11690  2020-07-04           H           R      BR             968        53\n",
      "12000  2020-07-04           I           R      BR          127547      2998\n",
      "12310  2020-07-04           J           R      BR           21791       497\n",
      "12620  2020-07-04           A           R      GB            8202        63\n",
      "12930  2020-07-04           B           R      GB            1545        75\n",
      "13240  2020-07-04           C           R      GB           32167       738\n",
      "13550  2020-07-04           D           R      GB            7437       269\n",
      "13860  2020-07-04           E           R      GB           10064       415\n",
      "14170  2020-07-04           F           R      GB            2490       226\n",
      "14480  2020-07-04           G           R      GB            2568        60\n",
      "14790  2020-07-04           H           R      GB            2564       130\n",
      "15100  2020-07-04           I           R      GB          199254      4763\n",
      "15410  2020-07-04           J           R      GB           21988       412\n"
     ]
    }
   ],
   "source": [
    "# dataframe for target game R on 04.07.2020\n",
    "print(network_040720[network_040720.target_game == \"R\"])"
   ]
  },
  {
   "cell_type": "markdown",
   "metadata": {},
   "source": [
    "It seems that the company try to put R game ad impressions in large quantity to source games in all 5 countries (GB: 200,000 thourgh source_game I; BR: 127,547 through source_game I; IN: 40,378 through source_game I and 46,093 through source_game J; US: 599,130 through source_game I and 136,547 through source_game J; RU: 41,337 through source_game I, 43,719 through source_game J and 69,369 through source_game C. This results in larger people seeing the advertisements and consequently, more would install game R.\n",
    "<br>\n",
    "<br>\n",
    "As analysed above, R game is second most installed game of all targets game, while source games I and J lie in the top 3 most ad impression source games. This could be a promotion day for target game R across 5 countries through the most ad impressions source games (I and J). \n",
    "T game is also worth scrutinized since it was the most installed target game and its number of installations also increased drastically on 04.07.2020. "
   ]
  },
  {
   "cell_type": "code",
   "execution_count": 56,
   "metadata": {},
   "outputs": [
    {
     "name": "stdout",
     "output_type": "stream",
     "text": [
      "             date source_game target_game country  ad_impressions  installs\n",
      "282    2020-07-04           A           T      US           82713      1304\n",
      "592    2020-07-04           B           T      US           10317       458\n",
      "902    2020-07-04           C           T      US          111582      4710\n",
      "1212   2020-07-04           D           T      US           32061      2438\n",
      "1522   2020-07-04           E           T      US           13868       584\n",
      "1832   2020-07-04           F           T      US           21236       945\n",
      "2142   2020-07-04           G           T      US           12369       620\n",
      "2452   2020-07-04           H           T      US           12809       647\n",
      "2762   2020-07-04           I           T      US          122946      3447\n",
      "3072   2020-07-04           J           T      US          244383      1448\n",
      "3382   2020-07-04           A           T      RU           11105       176\n",
      "3692   2020-07-04           B           T      RU            3424       156\n",
      "4002   2020-07-04           C           T      RU           97760      4184\n",
      "4312   2020-07-04           D           T      RU           21828      1619\n",
      "4622   2020-07-04           E           T      RU            2707       108\n",
      "4932   2020-07-04           F           T      RU            4718       217\n",
      "5242   2020-07-04           G           T      RU            3007       148\n",
      "5552   2020-07-04           H           T      RU            3373       166\n",
      "5862   2020-07-04           I           T      RU            7545       186\n",
      "6172   2020-07-04           J           T      RU           83388       491\n",
      "6482   2020-07-04           A           T      IN           21239       349\n",
      "6792   2020-07-04           B           T      IN            3383       148\n",
      "7102   2020-07-04           C           T      IN           11177       518\n",
      "7412   2020-07-04           D           T      IN           14387      1110\n",
      "7722   2020-07-04           E           T      IN            6621       294\n",
      "8032   2020-07-04           F           T      IN            4715       210\n",
      "8342   2020-07-04           G           T      IN            5466       285\n",
      "8652   2020-07-04           H           T      IN            2134       105\n",
      "8962   2020-07-04           I           T      IN            8553       235\n",
      "9272   2020-07-04           J           T      IN           80017       428\n",
      "9582   2020-07-04           A           T      BR           16566       257\n",
      "9892   2020-07-04           B           T      BR            1756        74\n",
      "10202  2020-07-04           C           T      BR           11218       512\n",
      "10512  2020-07-04           D           T      BR            7305       564\n",
      "10822  2020-07-04           E           T      BR            1458        60\n",
      "11132  2020-07-04           F           T      BR           16791       763\n",
      "11442  2020-07-04           G           T      BR            5334       283\n",
      "11752  2020-07-04           H           T      BR            2374        89\n",
      "12062  2020-07-04           I           T      BR           25079       689\n",
      "12372  2020-07-04           J           T      BR           38564       239\n",
      "12682  2020-07-04           A           T      GB            4637        76\n",
      "12992  2020-07-04           B           T      GB            1797        63\n",
      "13302  2020-07-04           C           T      GB           47672      2116\n",
      "13612  2020-07-04           D           T      GB            6304       574\n",
      "13922  2020-07-04           E           T      GB            6445       260\n",
      "14232  2020-07-04           F           T      GB            7415       297\n",
      "14542  2020-07-04           G           T      GB            5925       287\n",
      "14852  2020-07-04           H           T      GB            5364       301\n",
      "15162  2020-07-04           I           T      GB           44203      1150\n",
      "15472  2020-07-04           J           T      GB           43997       249\n"
     ]
    }
   ],
   "source": [
    "# data frame for target game T on 04.07.2020\n",
    "print(network_040720[network_040720.target_game == \"T\"])"
   ]
  },
  {
   "cell_type": "markdown",
   "metadata": {},
   "source": [
    "It is suprising that more target games were installed through ads shown in source games C and D, which are not the top ad impressions source games,nevertheless the attempt to promote through source game J."
   ]
  },
  {
   "cell_type": "code",
   "execution_count": 57,
   "metadata": {
    "scrolled": true
   },
   "outputs": [
    {
     "name": "stdout",
     "output_type": "stream",
     "text": [
      "             date source_game target_game country  ad_impressions  installs\n",
      "3      2020-07-04           A           K      US           32822      1550\n",
      "313    2020-07-04           B           K      US           13787      1098\n",
      "623    2020-07-04           C           K      US            9464       774\n",
      "933    2020-07-04           D           K      US           26046       783\n",
      "1243   2020-07-04           E           K      US           16556       566\n",
      "1553   2020-07-04           F           K      US            3321       144\n",
      "1863   2020-07-04           G           K      US          168861      3987\n",
      "2173   2020-07-04           H           K      US           18044       731\n",
      "2483   2020-07-04           I           K      US           47916       669\n",
      "2793   2020-07-04           J           K      US           37764      1340\n",
      "3103   2020-07-04           A           K      RU            4280       218\n",
      "3413   2020-07-04           B           K      RU            4393       371\n",
      "3723   2020-07-04           C           K      RU            8694       692\n",
      "4033   2020-07-04           D           K      RU           17457       514\n",
      "4343   2020-07-04           E           K      RU            3185       108\n",
      "4653   2020-07-04           F           K      RU             692        30\n",
      "4963   2020-07-04           G           K      RU           38538       866\n",
      "5273   2020-07-04           H           K      RU            4275       184\n",
      "5583   2020-07-04           I           K      RU            3448        48\n",
      "5893   2020-07-04           J           K      RU           12750       429\n",
      "6203   2020-07-04           A           K      IN            8287       412\n",
      "6513   2020-07-04           B           K      IN            4454       361\n",
      "6823   2020-07-04           C           K      IN            1219        89\n",
      "7133   2020-07-04           D           K      IN           11618       341\n",
      "7443   2020-07-04           E           K      IN            8045       264\n",
      "7753   2020-07-04           F           K      IN             671        32\n",
      "8063   2020-07-04           G           K      IN           73903      1745\n",
      "8373   2020-07-04           H           K      IN            2832       126\n",
      "8683   2020-07-04           I           K      IN            2995        43\n",
      "8993   2020-07-04           J           K      IN           11831       450\n",
      "9303   2020-07-04           A           K      BR            6651       325\n",
      "9613   2020-07-04           B           K      BR            2183       171\n",
      "9923   2020-07-04           C           K      BR            1023        79\n",
      "10233  2020-07-04           D           K      BR            5670       184\n",
      "10543  2020-07-04           E           K      BR            1612        51\n",
      "10853  2020-07-04           F           K      BR            2579       115\n",
      "11163  2020-07-04           G           K      BR           75318      1783\n",
      "11473  2020-07-04           H           K      BR            3271       132\n",
      "11783  2020-07-04           I           K      BR            9849       131\n",
      "12093  2020-07-04           J           K      BR            5841       229\n",
      "12403  2020-07-04           A           K      GB            2699       101\n",
      "12713  2020-07-04           B           K      GB            2116       207\n",
      "13023  2020-07-04           C           K      GB            4419       343\n",
      "13333  2020-07-04           D           K      GB            6150       193\n",
      "13643  2020-07-04           E           K      GB            7662       280\n",
      "13953  2020-07-04           F           K      GB            1268        49\n",
      "14263  2020-07-04           G           K      GB           80757      1649\n",
      "14573  2020-07-04           H           K      GB            6798       323\n",
      "14883  2020-07-04           I           K      GB           15760       205\n",
      "15193  2020-07-04           J           K      GB            6841       194\n"
     ]
    }
   ],
   "source": [
    "# data frame of target game K on 04.07.2020\n",
    "print(network_040720[network_040720.target_game == \"K\"])"
   ]
  },
  {
   "cell_type": "markdown",
   "metadata": {},
   "source": [
    "The same trend for target game R appears also to target game K with a vast quantity of ads shown through source game G all across 5 countries. This results in a larger number of installations. This is quite interesting since target game K is not the favoured game to installs, at least in the chart of most installed target game with position 7 out of 10.  \n",
    "<br>\n",
    "<br>\n",
    "**CONCLUSION: The increase in the number of installs may be attributed to the promotion (more ad impressions) all across 5 countries of target game R though source games I and J, target game K through source game G and target game T through the same source games but the results show more game installs in source games in C and D. This results in more people seeing these target games while being in source games, and leading to more installs. Especially there were almost 600,000 target game R's ads shown in source game I in the US, which results in a peak of around 14,500 installs, the highest number of installs in the month.**"
   ]
  },
  {
   "cell_type": "code",
   "execution_count": 58,
   "metadata": {},
   "outputs": [
    {
     "name": "stdout",
     "output_type": "stream",
     "text": [
      "14573\n",
      "             date source_game target_game country  ad_impressions  installs\n",
      "1863   2020-07-04           G           K      US          168861      3987\n",
      "4963   2020-07-04           G           K      RU           38538       866\n",
      "8063   2020-07-04           G           K      IN           73903      1745\n",
      "11163  2020-07-04           G           K      BR           75318      1783\n",
      "14263  2020-07-04           G           K      GB           80757      1649\n",
      "2700   2020-07-04           I           R      US          599130     14573\n",
      "3010   2020-07-04           J           R      US          136547      2927\n",
      "5800   2020-07-04           I           R      RU           41337       911\n",
      "6110   2020-07-04           J           R      RU           43719       976\n",
      "8900   2020-07-04           I           R      IN           40378       997\n",
      "9210   2020-07-04           J           R      IN           46093       958\n",
      "12000  2020-07-04           I           R      BR          127547      2998\n",
      "12310  2020-07-04           J           R      BR           21791       497\n",
      "15100  2020-07-04           I           R      GB          199254      4763\n",
      "15410  2020-07-04           J           R      GB           21988       412\n",
      "902    2020-07-04           C           T      US          111582      4710\n",
      "1212   2020-07-04           D           T      US           32061      2438\n",
      "4002   2020-07-04           C           T      RU           97760      4184\n",
      "4312   2020-07-04           D           T      RU           21828      1619\n",
      "7102   2020-07-04           C           T      IN           11177       518\n",
      "7412   2020-07-04           D           T      IN           14387      1110\n",
      "10202  2020-07-04           C           T      BR           11218       512\n",
      "10512  2020-07-04           D           T      BR            7305       564\n",
      "13302  2020-07-04           C           T      GB           47672      2116\n",
      "13612  2020-07-04           D           T      GB            6304       574\n"
     ]
    }
   ],
   "source": [
    "K_G = network_040720[(network_040720.source_game==\"G\") \n",
    "                     & (network_040720.target_game==\"K\")]\n",
    "R_I_J = network_040720[((network_040720.source_game==\"I\") \n",
    "                        | (network_040720.source_game==\"J\"))\n",
    "                       & (network_040720.target_game==\"R\")]\n",
    "T_C_D = network_040720[((network_040720.source_game==\"C\") \n",
    "                        | (network_040720.source_game==\"D\"))\n",
    "                       & (network_040720.target_game==\"T\")]\n",
    "\n",
    "# the highest number of installs in July\n",
    "print(network.installs.max())\n",
    "\n",
    "# the final table for drivers for increase in installs\n",
    "conclusion = pd.concat([K_G, R_I_J, T_C_D])\n",
    "print(conclusion)"
   ]
  },
  {
   "cell_type": "markdown",
   "metadata": {},
   "source": [
    "## 2.1 In data set 1, there's an increase in average conversion rate across all target gameson July 9-10 even though there isn't a clear increase in the conversion rate of any of the target games. Explain this phenomenon."
   ]
  },
  {
   "cell_type": "code",
   "execution_count": 59,
   "metadata": {},
   "outputs": [],
   "source": [
    "network_090720 = network[network.date ==\"2020-07-09\"]\n",
    "network_100720 = network[network.date == \"2020-07-10\"]"
   ]
  },
  {
   "cell_type": "code",
   "execution_count": 60,
   "metadata": {},
   "outputs": [
    {
     "name": "stdout",
     "output_type": "stream",
     "text": [
      "155501\n"
     ]
    }
   ],
   "source": [
    "print(network_090720.installs.sum())"
   ]
  },
  {
   "cell_type": "code",
   "execution_count": 61,
   "metadata": {},
   "outputs": [
    {
     "name": "stdout",
     "output_type": "stream",
     "text": [
      "161130\n"
     ]
    }
   ],
   "source": [
    "print(network_100720.installs.sum())"
   ]
  },
  {
   "cell_type": "code",
   "execution_count": 62,
   "metadata": {},
   "outputs": [
    {
     "name": "stdout",
     "output_type": "stream",
     "text": [
      "9144758\n"
     ]
    }
   ],
   "source": [
    "print(network_090720.ad_impressions.sum())"
   ]
  },
  {
   "cell_type": "code",
   "execution_count": 63,
   "metadata": {},
   "outputs": [
    {
     "name": "stdout",
     "output_type": "stream",
     "text": [
      "8393952\n"
     ]
    }
   ],
   "source": [
    "print(network_100720.ad_impressions.sum())"
   ]
  },
  {
   "cell_type": "code",
   "execution_count": 64,
   "metadata": {},
   "outputs": [
    {
     "name": "stdout",
     "output_type": "stream",
     "text": [
      "1.7004386556757436\n"
     ]
    }
   ],
   "source": [
    "# conversion rate on 09.07.2020\n",
    "a = network_090720.installs.sum()/network_090720.ad_impressions.sum()*100\n",
    "print(a)"
   ]
  },
  {
   "cell_type": "code",
   "execution_count": 65,
   "metadata": {
    "scrolled": true
   },
   "outputs": [
    {
     "name": "stdout",
     "output_type": "stream",
     "text": [
      "1.9195963951187711\n"
     ]
    }
   ],
   "source": [
    "# conversion rate on 10.07.2020\n",
    "b = network_100720.installs.sum()/network_100720.ad_impressions.sum()*100\n",
    "print(b)"
   ]
  },
  {
   "cell_type": "markdown",
   "metadata": {},
   "source": [
    "As shown above, the calculated conversion rates illustrate average conversion rate of date 09.07.2020 and 10.07.2020. The difference in these 2 days lie in the fact that on 9th of July, there were less installs but more ad impressions compared on 10th of July, which results in the conversion rate of 9th July is less than 10th of July.\n",
    "For instance: 1/3 < 2/2 (1<2, 3>2)\n",
    "Given the fact that conversion rate is proportionally to success rate of people actually installing target games. These calculated conversion rates shows that the perforamce on date 10.07.2020 is better than date 09.07.2020 ( with more installs and less ad impressions)."
   ]
  },
  {
   "cell_type": "code",
   "execution_count": 36,
   "metadata": {},
   "outputs": [
    {
     "data": {
      "text/plain": [
       "target_game\n",
       "K    3.741771\n",
       "L    0.730085\n",
       "M    2.419663\n",
       "N    2.243864\n",
       "O    2.575083\n",
       "P    2.275052\n",
       "Q    2.127058\n",
       "R    2.069750\n",
       "S    0.862059\n",
       "T    2.522888\n",
       "dtype: float64"
      ]
     },
     "execution_count": 36,
     "metadata": {},
     "output_type": "execute_result"
    }
   ],
   "source": [
    "network_090720.groupby(\"target_game\").installs.sum()/network_090720.groupby(\"target_game\").ad_impressions.sum()*100"
   ]
  },
  {
   "cell_type": "code",
   "execution_count": 37,
   "metadata": {},
   "outputs": [
    {
     "data": {
      "text/plain": [
       "target_game\n",
       "K    3.586167\n",
       "L    0.697190\n",
       "M    2.194735\n",
       "N    2.252687\n",
       "O    2.583943\n",
       "P    2.124973\n",
       "Q    2.063748\n",
       "R    1.909626\n",
       "S    0.827991\n",
       "T    2.488650\n",
       "dtype: float64"
      ]
     },
     "execution_count": 37,
     "metadata": {},
     "output_type": "execute_result"
    }
   ],
   "source": [
    "network_100720.groupby(\"target_game\").installs.sum()/network_100720.groupby(\"target_game\").ad_impressions.sum()*100"
   ]
  },
  {
   "cell_type": "code",
   "execution_count": 73,
   "metadata": {
    "scrolled": true
   },
   "outputs": [
    {
     "name": "stdout",
     "output_type": "stream",
     "text": [
      "target_game\n",
      "K    13288\n",
      "L    19207\n",
      "M    15786\n",
      "N     7548\n",
      "O    16356\n",
      "P     8430\n",
      "Q    15120\n",
      "R    17269\n",
      "S    12240\n",
      "T    30257\n",
      "Name: installs, dtype: int64\n"
     ]
    }
   ],
   "source": [
    "print(network_090720.groupby(\"target_game\").installs.sum())"
   ]
  },
  {
   "cell_type": "code",
   "execution_count": 71,
   "metadata": {},
   "outputs": [
    {
     "name": "stdout",
     "output_type": "stream",
     "text": [
      "target_game\n",
      "K    13678\n",
      "L     8534\n",
      "M    15311\n",
      "N     7557\n",
      "O    16500\n",
      "P     9172\n",
      "Q    35546\n",
      "R    18391\n",
      "S     6644\n",
      "T    29797\n",
      "Name: installs, dtype: int64\n"
     ]
    }
   ],
   "source": [
    "print(network_100720.groupby(\"target_game\").installs.sum())"
   ]
  },
  {
   "cell_type": "code",
   "execution_count": 76,
   "metadata": {},
   "outputs": [
    {
     "name": "stdout",
     "output_type": "stream",
     "text": [
      "target_game\n",
      "K     355126\n",
      "L    2630789\n",
      "M     652405\n",
      "N     336384\n",
      "O     635164\n",
      "P     370541\n",
      "Q     710841\n",
      "R     834352\n",
      "S    1419856\n",
      "T    1199300\n",
      "Name: ad_impressions, dtype: int64\n"
     ]
    }
   ],
   "source": [
    "print(network_090720.groupby(\"target_game\").ad_impressions.sum())"
   ]
  },
  {
   "cell_type": "code",
   "execution_count": 72,
   "metadata": {
    "scrolled": true
   },
   "outputs": [
    {
     "name": "stdout",
     "output_type": "stream",
     "text": [
      "target_game\n",
      "K     381410\n",
      "L    1224056\n",
      "M     697624\n",
      "N     335466\n",
      "O     638559\n",
      "P     431629\n",
      "Q    1722400\n",
      "R     963068\n",
      "S     802424\n",
      "T    1197316\n",
      "Name: ad_impressions, dtype: int64\n"
     ]
    }
   ],
   "source": [
    "print(network_100720.groupby(\"target_game\").ad_impressions.sum())"
   ]
  },
  {
   "cell_type": "markdown",
   "metadata": {},
   "source": [
    "However, if we take each of conversion rate for each game on 10.07.2020, the results actually show that they almost perform worse than on 09.07.2020 and for some games, the rate almost remained the same. \n",
    "Moreover, if we take a look at the total ad impressions for each game, we can see that the total amount was dropped almost by half for 2 lowest installed target games (almost 2 millions ads) and then the amount of ad impressions was increased for those games having above two point percentage of conversion rate, with around 75,000 drop in total ad impressions on 10th of July. \n",
    "<br>\n",
    "<br>\n",
    "If we do calculation, if we drop ad impressions for these 2 lowest installed target game L, Q to have the same amount of ads on 10.07.20 and they still have the same conversion rate, 0.73 and 0.86 percentage respectively, there were only 10,270 and 5,322 less installed that is about 15,000 installs dropped. But then we have 20,426 installed games increased for only 1 million ad impressions increase on 10.07.2020, which is already 5,000 increase for installations compared with 15,000 installs dropped. And slightly change the ad impressions of the other games to gain higher number of installs, resulting a greater total of installations per day. Since the ad impressions amount was dropped from 2 lowest conversion rate games for over 2 millions and increase 1 million for better conversion rate game, and distribute slighly more or less ad impressions for other games, the ad impressions decrease and total installations increase, which explains why the average conversion rate increase from 09.07 to 10.07. But since the conversion rate will not be the same daily, increasing the amount of ad impressions will not promise to have the proportional increase in installs, but at least we know that they increase and vice versa. And since the installs increase and ad_impression increase quite proportionally, the conversion rate stays  \n",
    "<br>\n",
    "<br>\n",
    "**CONCLUSION: This means that in graph of conversion rate, the conversion rates seem not to have a significant change, but in fact, there has been a great modification of ad impressions and installations for each game on 10.07.2020, leading to better performance of average conversion rate (0.2 % increase). This might be conducted by some algorithms to maximize and predict the installs of each target game from 09.07.2020 to 10.07.2020.**\n",
    "<br>\n",
    "<br>\n",
    "## 3.1 Calculate the average conversion rate of the target game"
   ]
  },
  {
   "cell_type": "code",
   "execution_count": 86,
   "metadata": {
    "scrolled": true
   },
   "outputs": [
    {
     "name": "stdout",
     "output_type": "stream",
     "text": [
      "<class 'pandas.core.frame.DataFrame'>\n",
      "RangeIndex: 724 entries, 0 to 723\n",
      "Data columns (total 5 columns):\n",
      " #   Column       Non-Null Count  Dtype \n",
      "---  ------       --------------  ----- \n",
      " 0   date         724 non-null    object\n",
      " 1   target_game  724 non-null    object\n",
      " 2   source_game  724 non-null    object\n",
      " 3   campaign     724 non-null    object\n",
      " 4   event_type   724 non-null    object\n",
      "dtypes: object(5)\n",
      "memory usage: 28.4+ KB\n",
      "None\n",
      "         date target_game source_game campaign     event_type\n",
      "0  2020-07-01           U           Z        W  ad_impression\n",
      "1  2020-07-01           U           Y        V  ad_impression\n",
      "2  2020-07-01           U           Y        W  ad_impression\n",
      "3  2020-07-01           U           Z        W        install\n",
      "4  2020-07-01           U           Z        W  ad_impression\n"
     ]
    }
   ],
   "source": [
    "target = pd.read_csv(\"BI_intern_homework_dataset2.csv\")\n",
    "print(target.info())\n",
    "\n",
    "print(target.head())"
   ]
  },
  {
   "cell_type": "code",
   "execution_count": 100,
   "metadata": {},
   "outputs": [
    {
     "name": "stdout",
     "output_type": "stream",
     "text": [
      "13.479623824451412\n"
     ]
    }
   ],
   "source": [
    "a = target[target.event_type == \"install\"]\n",
    "b = target[target.event_type == \"ad_impression\"]\n",
    "\n",
    "conversion_rate = len(a)/len(b)*100\n",
    "print(conversion_rate)"
   ]
  },
  {
   "cell_type": "markdown",
   "metadata": {},
   "source": [
    "**CONLCUSION: The average conversion rate of the target game is 13.5%**"
   ]
  }
 ],
 "metadata": {
  "kernelspec": {
   "display_name": "Python 3",
   "language": "python",
   "name": "python3"
  },
  "language_info": {
   "codemirror_mode": {
    "name": "ipython",
    "version": 3
   },
   "file_extension": ".py",
   "mimetype": "text/x-python",
   "name": "python",
   "nbconvert_exporter": "python",
   "pygments_lexer": "ipython3",
   "version": "3.8.3"
  }
 },
 "nbformat": 4,
 "nbformat_minor": 4
}
